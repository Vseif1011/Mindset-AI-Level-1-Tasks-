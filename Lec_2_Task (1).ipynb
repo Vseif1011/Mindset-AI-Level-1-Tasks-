{
  "cells": [
    {
      "cell_type": "markdown",
      "metadata": {
        "id": "W0cgShwtoe0x"
      },
      "source": [
        "# **Task on if condition**"
      ]
    },
    {
      "cell_type": "markdown",
      "metadata": {
        "id": "L6KMOjweozWx"
      },
      "source": [
        "1. Using following list of cities per country,\n",
        "    ```\n",
        "    india = [\"mumbai\", \"banglore\", \"chennai\", \"delhi\"]\n",
        "    pakistan = [\"lahore\",\"karachi\",\"islamabad\"]\n",
        "    bangladesh = [\"dhaka\", \"khulna\", \"rangpur\"]\n",
        "    ```\n",
        "    1. Write a program that asks user to enter a city name and it should tell which country the city belongs to\n",
        "    2. Write a program that asks user to enter two cities and it tells you if they both are in same country or not. For example if I enter mumbai and chennai, it will print \"Both cities are in India\" but if I enter mumbai and dhaka it should print \"They don't belong to same country\"\n",
        "2. Write a python program that can tell you if your sugar is normal or not. Normal fasting level sugar range is 80 to 100.\n",
        "    1. Ask user to enter his fasting sugar level\n",
        "    2. If it is below 80 to 100 range then print that sugar is low\n",
        "    3. If it is above 100 then print that it is high otherwise print that it is normal\n"
      ]
    },
    {
      "cell_type": "code",
      "execution_count": null,
      "metadata": {
        "id": "cO3LrWaDQ8Eu",
        "outputId": "463ef2c3-a227-4dcc-f0c5-2c71df25cfcb"
      },
      "outputs": [
        {
          "name": "stdout",
          "output_type": "stream",
          "text": [
            "dhaka is in bangladesh\n",
            "chennai is in India\n",
            "Both citiees belong to pakistan\n",
            "Both cities don't belong to the same country\n"
          ]
        }
      ],
      "source": [
        "india = [\"mumbai\", \"banglore\", \"chennai\", \"delhi\"]\n",
        "pakistan = [\"lahore\",\"karachi\",\"islamabad\"]\n",
        "bangladesh = [\"dhaka\", \"khulna\", \"rangpur\"]\n",
        "\n",
        "def find_country(city):\n",
        "    if city in india:\n",
        "        print(f'{city} is in India')\n",
        "    elif city in pakistan:\n",
        "        print(f'{city} is in Pakistan')\n",
        "    elif city in bangladesh:\n",
        "        print(f'{city} is in bangladesh')\n",
        "\n",
        "\n",
        "def same_country(city1,city2):\n",
        "    if city1 in india and city2 in india:\n",
        "        print(\"Both cities belong to india\")\n",
        "    elif city1 in pakistan and city2 in pakistan:\n",
        "        print(\"Both citiees belong to pakistan\")\n",
        "    elif city1 in bangladesh and city2 in bangladesh:\n",
        "        print (\"Both cities belong to bangladesh\")\n",
        "    else:\n",
        "        print(\"Both cities don't belong to the same country\")\n",
        "\n",
        "find_country('dhaka')\n",
        "find_country('alex')\n",
        "find_country('chennai')\n",
        "same_country('lahore','islamabad')\n",
        "same_country('khulana','mumbai')"
      ]
    },
    {
      "cell_type": "markdown",
      "metadata": {
        "id": "4Cfq5HqXo01w"
      },
      "source": [
        "# **Task on for loops**"
      ]
    },
    {
      "cell_type": "markdown",
      "metadata": {
        "id": "qDijpad9qFo_"
      },
      "source": [
        "1. After flipping a coin 10 times you got this result,\n",
        "```\n",
        "result = [\"heads\",\"tails\",\"tails\",\"heads\",\"tails\",\"heads\",\"heads\",\"tails\",\"tails\",\"tails\"]\n",
        "```\n",
        "Using for loop figure out how many times you got heads\n",
        "\n",
        "2. Print square of all numbers between 1 to 10 except even numbers\n",
        "3. Your monthly expense list (from Jan to May) looks like this,\n",
        "```\n",
        "expense_list = [2340, 2500, 2100, 3100, 2980]\n",
        "```\n",
        "Write a program that asks you to enter an expense amount and program\n",
        "should tell you in which month that expense occurred. If expense is not\n",
        "found then it should print that as well.\n",
        "\n",
        "4. Lets say you are running a 5 km race. Write a program that,\n",
        "   1. Upon completing each 1 km asks you \"are you tired?\"\n",
        "   2. If you reply \"yes\" then it should break and print \"you didn't finish the race\"\n",
        "   3. If you reply \"no\" then it should continue and ask \"are you tired\" on every km\n",
        "   4. If you finish all 5 km then it should print congratulations message\n"
      ]
    },
    {
      "cell_type": "code",
      "execution_count": null,
      "metadata": {
        "id": "R8ioOwTnQ8Ev",
        "outputId": "18bdc0a8-7516-449e-e33d-a5f3399c47d4"
      },
      "outputs": [
        {
          "name": "stdout",
          "output_type": "stream",
          "text": [
            "Heads: 4, Tails: 6\n",
            "\n",
            "[1, 9, 25, 49, 81]\n"
          ]
        }
      ],
      "source": [
        "#1\n",
        "result = [\"heads\",\"tails\",\"tails\",\"heads\",\"tails\",\"heads\",\"heads\",\"tails\",\"tails\",\"tails\"]\n",
        "heads = 0\n",
        "tails = 0\n",
        "for option in result:\n",
        "    if option =='heads':\n",
        "        heads+=1\n",
        "    else :\n",
        "        tails +=1\n",
        "print(f\"Heads: {heads}, Tails: {tails}\\n\")\n",
        "\n",
        "#2\n",
        "print([i**2 for i in range(11) if i % 2 != 0], '\\n')\n",
        "\n",
        "#3\n",
        "expense_list = [2340, 2500, 2100, 3100, 2980]\n",
        "months=['January','February','March','April','May']\n",
        "expense = int(input(\"Enter the amount: \"))\n",
        "for index, e in enumerate(expense_list):\n",
        "    if e == expense:\n",
        "        print(f\"The expense was spent in {months[index]}\\n\")\n",
        "\n",
        "i = 0\n",
        "for i in range(5):\n",
        "    response = input(\"Would you like to continue the race? y or n : \")\n",
        "    if response == 'y':\n",
        "        i += 1\n",
        "    elif response == 'n':\n",
        "        break\n",
        "if i==5:\n",
        "    print('You finished the race')\n",
        "else:\n",
        "    print(\"You didn't finish th race\")\n",
        "\n"
      ]
    },
    {
      "cell_type": "code",
      "execution_count": null,
      "metadata": {
        "id": "5uciA349qLUq",
        "colab": {
          "base_uri": "https://localhost:8080/"
        },
        "outputId": "35c28814-8acf-4093-b06a-c9a709586007"
      },
      "outputs": [
        {
          "output_type": "stream",
          "name": "stdout",
          "text": [
            "*\n",
            "**\n",
            "***\n",
            "****\n",
            "*****\n"
          ]
        }
      ],
      "source": [
        "# 5. Write a program that prints following shape\n",
        "# ```\n",
        "# *\n",
        "# **\n",
        "# ***\n",
        "# ****\n",
        "# *****\n",
        "# ```\n",
        "starter = '*'\n",
        "for i in range (1,6):\n",
        "    print (starter*i)\n",
        "\n",
        "\n"
      ]
    },
    {
      "cell_type": "markdown",
      "metadata": {
        "id": "iNJMcH97wu0B"
      },
      "source": [
        "# **Task on List Set Dict Comprehensions**"
      ]
    },
    {
      "cell_type": "markdown",
      "metadata": {
        "id": "1mCLeGEBw1gn"
      },
      "source": [
        "1. Create a Dictionary which contains the Binary values mapping with numbers found in the below integer and binary and save it in binary_dict.\n",
        "\n",
        "Example :\n",
        "```\n",
        "    integer = [0, 1, 2, 3, 4]\n",
        "    binary = [\"0\", \"1\", \"10\", \"11\", \"100\"]\n",
        "    binary_dict = {0:\"0\", 1:\"1\", 2:\"10\", 3: \"11\", 4:\"100\"}\n",
        "```\n",
        "\n",
        "2. Create a List which contains additive inverse of a given integer list.\n",
        "An additive inverse `a` for an integer `i` is a number such that:\n",
        "```\n",
        "a + i = 0\n",
        "```\n",
        "Example:\n",
        "```\n",
        "integer = [1, -1, 2, 3, 5, 0, -7]\n",
        "additive_inverse = [-1, 1, -2, -3, -5, 0, 7]\n",
        "```\n",
        "\n",
        "3. Create a set which only contains unique sqaures from a given a integer list.\n",
        "```\n",
        "integer = [1, -1, 2, -2, 3, -3]\n",
        "sq_set = {1, 4, 9}\n",
        "```\n"
      ]
    },
    {
      "cell_type": "code",
      "execution_count": null,
      "metadata": {
        "colab": {
          "base_uri": "https://localhost:8080/"
        },
        "id": "3JpAZnyqQ8Ew",
        "outputId": "53255a95-7d13-4e08-9dbd-1c0e18a781b8"
      },
      "outputs": [
        {
          "output_type": "stream",
          "name": "stdout",
          "text": [
            "{'0': 0, '1': 1, '2': 2, '3': 3, '4': 4}\n",
            "\n",
            "[-1, -3, -4, -5, -6, -7] \n",
            "\n",
            "[-1, -3, -4, -5, -6, -7] \n",
            "\n"
          ]
        },
        {
          "output_type": "execute_result",
          "data": {
            "text/plain": [
              "{1, 4, 9, 16}"
            ]
          },
          "metadata": {},
          "execution_count": 2
        }
      ],
      "source": [
        "#1\n",
        "\n",
        "binary_dict = {}\n",
        "for i in range(5):\n",
        "    binary_dict[f'{i}']=i\n",
        "print(f\"{binary_dict}\\n\")\n",
        "\n",
        "#2\n",
        "nums = [1,3,4,5,6,7]\n",
        "inverse = []\n",
        "for num in nums:\n",
        "    inverse.append(int(f'-{num}'))\n",
        "print(inverse,'\\n')\n",
        "# or\n",
        "nums2 = [1,2,3,4,5,6]\n",
        "inverse2 = [-i for i in nums]\n",
        "print(inverse2,'\\n')\n",
        "\n",
        "#3\n",
        "integers = [1,2,-1,2,-2,3,-3,3,4]\n",
        "sq = [i*i for i in integers]\n",
        "sq_set= set(sq)\n",
        "sq_set"
      ]
    },
    {
      "cell_type": "markdown",
      "metadata": {
        "id": "PrOPDuIyqOyY"
      },
      "source": [
        "# **Task on Dict and Tuple**"
      ]
    },
    {
      "cell_type": "code",
      "execution_count": null,
      "metadata": {
        "id": "EndcNKm8syaM"
      },
      "outputs": [],
      "source": [
        "''' 1. We have following information on countries and their population (population is in crores),\n",
        "\n",
        "    |Country|Population|\n",
        "    |-------|----------|\n",
        "    |China|143|\n",
        "    |India|136|\n",
        "    |USA|32|\n",
        "    |Pakistan|21|\n",
        "    1. Using above create a dictionary of countries and its population\n",
        "    2. Write a program that asks user for three type of inputs,\n",
        "         1. print: if user enter print then it should print all countries with their population in this format,\n",
        "            ```\n",
        "            china==>143\n",
        "            india==>136\n",
        "            usa==>32\n",
        "            pakistan==>21\n",
        "            ```\n",
        "        1. add: if user input add then it should further ask for a country name to add. If country already exist in our dataset then it should print that it exist and do nothing. If it doesn't then it asks for population and add that new country/population in our dictionary and print it\n",
        "        2. remove: when user inputs remove it should ask for a country to remove. If country exist in our dictionary then remove it and print new dictionary using format shown above in (a). Else print that country doesn't exist!\n",
        "        3. query: on this again ask user for which country he or she wants to query. When user inputs that country it will print population of that country.\n",
        "'''"
      ]
    },
    {
      "cell_type": "code",
      "execution_count": null,
      "metadata": {
        "colab": {
          "base_uri": "https://localhost:8080/"
        },
        "id": "hms2EuIMQ8Ex",
        "outputId": "d230a52d-a90f-44f1-dc91-12cd808fcca2"
      },
      "outputs": [
        {
          "name": "stdout",
          "output_type": "stream",
          "text": [
            "Enter what operation would you like to perform (print - add - remove - query), stop to terminate: print\n",
            "China==>143\n",
            "India==>136\n",
            "USA==>32\n",
            "Pakistan==>21\n",
            " \n",
            "Enter what operation would you like to perform (print - add - remove - query), stop to terminate: add\n",
            "Enter the country you would like to add: Egypt\n",
            "Enter the population in crores: 11.8\n",
            "China==>143\n",
            "India==>136\n",
            "USA==>32\n",
            "Pakistan==>21\n",
            "Egypt==>11.8\n",
            " \n",
            "Enter what operation would you like to perform (print - add - remove - query), stop to terminate: remove\n",
            "Enter the country you would like to remove: USA\n",
            "China==>143\n",
            "India==>136\n",
            "Pakistan==>21\n",
            "Egypt==>11.8\n",
            " \n",
            "Enter what operation would you like to perform (print - add - remove - query), stop to terminate: query\n",
            "Enter the country: China\n",
            "Population of China: 143\n",
            " \n",
            "Enter what operation would you like to perform (print - add - remove - query), stop to terminate: stop\n"
          ]
        }
      ],
      "source": [
        "Country_Pop = {\n",
        "    \"China\": 143,\n",
        "    \"India\": 136,\n",
        "    \"USA\": 32,\n",
        "    \"Pakistan\": 21\n",
        "}\n",
        "while (True):\n",
        "    user_response = input(\"Enter what operation would you like to perform (print - add - remove - query), stop to terminate: \")\n",
        "    if user_response == 'print':\n",
        "        for key,value in Country_Pop.items():\n",
        "            print(f'{key}==>{value}')\n",
        "\n",
        "\n",
        "    elif user_response == 'add':\n",
        "        country = input(\"Enter the country you would like to add: \")\n",
        "        if country in Country_Pop.keys():\n",
        "            print(\"Conutry already exists\")\n",
        "        else:\n",
        "            Pop = float(input(\"Enter the population in crores: \"))\n",
        "            Country_Pop[country] = Pop\n",
        "            for key,value in Country_Pop.items():\n",
        "                print(f'{key}==>{value}')\n",
        "\n",
        "\n",
        "    elif user_response == \"remove\":\n",
        "        country_to_remove = input(\"Enter the country you would like to remove: \")\n",
        "        if country_to_remove in Country_Pop.keys():\n",
        "            Country_Pop.pop(country_to_remove)\n",
        "            for key,value in Country_Pop.items():\n",
        "                print(f'{key}==>{value}')\n",
        "\n",
        "\n",
        "    elif user_response == \"query\":\n",
        "        q = input(\"Enter the country: \")\n",
        "        if q in Country_Pop.keys():\n",
        "            print(f\"Population of {q}: {Country_Pop[q]}\")\n",
        "    elif user_response == \"stop\":\n",
        "        break\n",
        "    print(' ')"
      ]
    },
    {
      "cell_type": "code",
      "execution_count": null,
      "metadata": {
        "id": "XHIgJY6utNMe"
      },
      "outputs": [],
      "source": [
        "'''2. You are given following list of stocks and their prices in last 3 days,\n",
        "\n",
        "    |Stock|Prices|\n",
        "    |-------|----------|\n",
        "    |info|[600,630,620]|\n",
        "    |ril|[1430,1490,1567]|\n",
        "    |mtl|[234,180,160]|\n",
        "\n",
        "    1. Write a program that asks user for operation. Value of operations could be,\n",
        "        1. print: When user enters print it should print following,\n",
        "            ```\n",
        "            info ==> [600, 630, 620] ==> avg:  616.67\n",
        "            ril ==> [1430, 1490, 1567] ==> avg:  1495.67\n",
        "            mtl ==> [234, 180, 160] ==> avg:  191.33\n",
        "            ```\n",
        "        2. add: When user enters 'add', it asks for stock ticker and price. If stock already exist in your list (like info, ril etc) then it will append the price to the list. Otherwise it will create new entry in your dictionary. For example entering 'tata' and 560 will add tata ==> [560] to the dictionary of stocks.\n",
        "\n",
        "3. Write circle_calc() function that takes radius of a circle as an input from user and then it calculates and returns area, circumference and diameter. You should get these values in your main program by calling circle_calc function and then print them'''"
      ]
    },
    {
      "cell_type": "code",
      "execution_count": null,
      "metadata": {
        "colab": {
          "base_uri": "https://localhost:8080/"
        },
        "id": "9zz7ZxVZQ8Ex",
        "outputId": "2b11e8e6-de7f-4669-c8f5-2c981dd782a8"
      },
      "outputs": [
        {
          "name": "stdout",
          "output_type": "stream",
          "text": [
            "Enter the operation (print-add-stop): print\n",
            "info ==> [600, 630, 620] ==> avg: 616.67\n",
            "ril ==> [1430, 1490, 1567] ==> avg: 1495.67\n",
            "mtl ==> [234, 180, 160] ==> avg: 191.33\n",
            "Enter the operation (print-add-stop): add\n",
            "Enter the stock ticker: irs\n",
            "Enter the price: 4324\n",
            "info ==> [600, 630, 620] ==> avg: 616.67\n",
            "ril ==> [1430, 1490, 1567] ==> avg: 1495.67\n",
            "mtl ==> [234, 180, 160] ==> avg: 191.33\n",
            "irs ==> [4324] ==> avg: 4324.00\n",
            "Enter the operation (print-add-stop): add\n",
            "Enter the stock ticker: irs\n",
            "Enter the price: 32333\n",
            "info ==> [600, 630, 620] ==> avg: 616.67\n",
            "ril ==> [1430, 1490, 1567] ==> avg: 1495.67\n",
            "mtl ==> [234, 180, 160] ==> avg: 191.33\n",
            "irs ==> [4324, 32333] ==> avg: 18328.50\n",
            "Enter the operation (print-add-stop): stop\n"
          ]
        }
      ],
      "source": [
        "Stck_Pr = {\n",
        "    'info' : [600,630,620],\n",
        "    'ril' : [1430,1490,1567],\n",
        "    'mtl': [234,180,160]\n",
        "}\n",
        "while (True):\n",
        "    response = input(\"Enter the operation (print-add-stop): \")\n",
        "    if response == \"print\":\n",
        "        for key,value in Stck_Pr.items():\n",
        "            print(f\"{key} ==> {value} ==> avg: {(sum(value)/len(value)):.2f}\")\n",
        "    elif response == \"add\":\n",
        "        response2 = input(\"Enter the stock ticker: \")\n",
        "        response3 = int(input(\"Enter the price: \"))\n",
        "        if response2 in Stck_Pr.keys():\n",
        "            Stck_Pr[response2].append(response3)\n",
        "            for key,value in Stck_Pr.items():\n",
        "                print(f\"{key} ==> {value} ==> avg: {(sum(value)/len(value)):.2f}\")\n",
        "        else:\n",
        "            Stck_Pr[response2]=[response3]\n",
        "            for key,value in Stck_Pr.items():\n",
        "                print(f\"{key} ==> {value} ==> avg: {(sum(value)/len(value)):.2f}\")\n",
        "    elif response == \"stop\":\n",
        "        break"
      ]
    },
    {
      "cell_type": "code",
      "execution_count": null,
      "metadata": {
        "id": "tLK8mnMIQ8Ex",
        "outputId": "d1ef2ba7-798b-4565-b713-0d6f585e63aa"
      },
      "outputs": [
        {
          "name": "stdout",
          "output_type": "stream",
          "text": [
            "Diameter: 10\n",
            "Circumference: 31.42\n",
            "Area: 31.42\n"
          ]
        }
      ],
      "source": [
        "from math import pi\n",
        "def circle_radius(r):\n",
        "    print(f\"Diameter: {r*2}\")\n",
        "    print(f\"Circumference: {2*pi*r:.2f}\")\n",
        "    print(f\"Area: {pi*r*2:.2f}\")\n",
        "circle_radius(5)"
      ]
    },
    {
      "cell_type": "markdown",
      "metadata": {
        "id": "uklOASJZlEIj"
      },
      "source": [
        "# **Task on Functions**"
      ]
    },
    {
      "cell_type": "markdown",
      "metadata": {
        "id": "iMvZFpIhlIkl"
      },
      "source": [
        "1. Write a function called calculate_area that takes base and height as an input and returns and area of a triangle. Equation of an area of a triangle is,\n",
        "```\n",
        "area = (1/2)*base*height\n",
        "```\n",
        "\n",
        "2. Modify above function to take third parameter shape type. It can be either \"triangle\" or \"rectangle\". Based on shape type it will calculate area. Equation of rectangle's area is,\n",
        "```\n",
        "rectangle area=length*width\n",
        "```\n",
        "If no shape is supplied then it should take triangle as a default shape\n",
        "\n"
      ]
    },
    {
      "cell_type": "code",
      "execution_count": null,
      "metadata": {
        "colab": {
          "base_uri": "https://localhost:8080/"
        },
        "id": "B-bZcJ4cQ8Ey",
        "outputId": "96a64bbb-6e84-4745-a41c-20e817dd1ab5"
      },
      "outputs": [
        {
          "output_type": "stream",
          "name": "stdout",
          "text": [
            "Area: 6.0\n",
            "Area: 15.0\n",
            "Area: 24\n"
          ]
        }
      ],
      "source": [
        "def area_triangle(b,h):\n",
        "    print(f\"Area: {0.5*b*h}\")\n",
        "def area(b,h,shape):\n",
        "    if shape == 'triangle':\n",
        "        area_triangle(b,h)\n",
        "    elif shape == 'rectangle':\n",
        "        print(f\"Area: {b*h}\")\n",
        "\n",
        "area_triangle(3,4)\n",
        "area(5,6,'triangle')\n",
        "area(3,8,'rectangle')\n"
      ]
    },
    {
      "cell_type": "code",
      "execution_count": null,
      "metadata": {
        "id": "k36chpaXl49M"
      },
      "outputs": [],
      "source": [
        "'''3. Write a function called print_pattern that takes integer number as an argument and prints following pattern if input number is 3,\n",
        "*\n",
        "**\n",
        "***\n",
        "if input is 4 then it should print\n",
        "*\n",
        "**\n",
        "***\n",
        "****\n",
        "Basically number of lines it prints is equal to that number. (Hint: you need to use two for loops)'''\n"
      ]
    },
    {
      "cell_type": "code",
      "execution_count": null,
      "metadata": {
        "colab": {
          "base_uri": "https://localhost:8080/"
        },
        "id": "MxYhskmSQ8Ey",
        "outputId": "8e4e7f95-18ed-451b-c089-6bee46013b96"
      },
      "outputs": [
        {
          "output_type": "stream",
          "name": "stdout",
          "text": [
            "*\n",
            "**\n",
            "***\n",
            "****\n",
            "\n",
            "\n",
            "*\n",
            "**\n",
            "***\n",
            "****\n",
            "*****\n",
            "******\n",
            "*******\n",
            "********\n",
            "*********\n",
            "**********\n",
            "***********\n",
            "************\n",
            "\n",
            "\n"
          ]
        }
      ],
      "source": [
        "def pattern(n):\n",
        "    for i in range(1,n+1):\n",
        "        print('*'*i)\n",
        "    print('\\n')\n",
        "pattern(4)\n",
        "pattern(12)"
      ]
    }
  ],
  "metadata": {
    "colab": {
      "provenance": []
    },
    "kernelspec": {
      "display_name": ".venv",
      "language": "python",
      "name": "python3"
    },
    "language_info": {
      "codemirror_mode": {
        "name": "ipython",
        "version": 3
      },
      "file_extension": ".py",
      "mimetype": "text/x-python",
      "name": "python",
      "nbconvert_exporter": "python",
      "pygments_lexer": "ipython3",
      "version": "3.13.2"
    }
  },
  "nbformat": 4,
  "nbformat_minor": 0
}