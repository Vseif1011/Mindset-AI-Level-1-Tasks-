{
  "cells": [
    {
      "cell_type": "markdown",
      "metadata": {
        "id": "xaBmKISuRfxI"
      },
      "source": [
        "# Task on List:\n",
        " You have a list of your favourite marvel super heros.\n",
        "```\n",
        "heros=['spider man','thor','hulk','iron man','captain america']\n",
        "```\n",
        "\n",
        "Using this find out,\n",
        "\n",
        "    1. Length of the list\n",
        "    2. Add 'black panther' at the end of this list\n",
        "    3. You realize that you need to add 'black panther' after 'hulk',\n",
        "       so remove it from the list first and then add it after 'hulk'\n",
        "    4. Now you don't like thor and hulk because they get angry easily :)\n",
        "       So you want to remove thor and hulk from list and replace them with doctor strange (because he is cool).\n",
        "       Do that with one line of code.\n",
        "    5. Sort the heros list in alphabetical order (Hint. Use dir() functions to list down all functions available in list)\n",
        "\n"
      ]
    },
    {
      "cell_type": "code",
      "execution_count": null,
      "metadata": {},
      "outputs": [
        {
          "name": "stdout",
          "output_type": "stream",
          "text": [
            "['spider man', 'thor', 'hulk', 'iron man', 'captain america']  # Original list\n",
            "Length of list:  5\n",
            "['spider man', 'thor', 'hulk', 'iron man', 'captain america', 'black panther']  # After apending black panther\n",
            "['spider man', 'thor', 'hulk', 'black panther', 'iron man', 'captain america']  # After removing then inserting black panther after hulk\n",
            "['spider man', 'doctor strange', 'doctor strange', 'black panther', 'iron man', 'captain america']  # After replacing hulk and thor with doctor strange\n",
            "['black panther', 'captain america', 'doctor strange', 'doctor strange', 'iron man', 'spider man']  # Afer sorting the list in alpha order\n"
          ]
        }
      ],
      "source": [
        "heros=['spider man','thor','hulk','iron man','captain america']\n",
        "print (heros,' # Original list')\n",
        "\n",
        "print(\"Length of list: \", len(heros))\n",
        "\n",
        "heros.append('black panther')\n",
        "print (heros,' # After appending black panther')\n",
        "\n",
        "heros.remove('black panther')\n",
        "heros.insert(3,'black panther')\n",
        "print(heros,' # After removing then inserting black panther after hulk')\n",
        "\n",
        "heros = ['doctor strange' if hero == 'hulk' or hero == 'thor' else hero for hero in heros]\n",
        "print(heros, ' # After replacing hulk and thor with doctor strange')\n",
        "\n",
        "heros.sort()\n",
        "print(heros,' # Afer sorting the list in alpha order')\n"
      ]
    },
    {
      "cell_type": "markdown",
      "metadata": {
        "id": "BR7rqorHTEeJ"
      },
      "source": [
        "# Task on Variables:\n",
        "1. Create two variables. One to store your birth year and another one to store current year. Now calculate your age using these two variables\n",
        "2. Store your first, middle and last name in three different variables and then print your full name using these variables\n",
        "3. Answer which of these are invalid variable names:\n",
        "   _nation\n",
        "   1record\n",
        "   record1\n",
        "   record_one\n",
        "   record-one\n",
        "   record^one\n"
      ]
    },
    {
      "cell_type": "code",
      "execution_count": 14,
      "metadata": {},
      "outputs": [
        {
          "name": "stdout",
          "output_type": "stream",
          "text": [
            "Current age: 20\n"
          ]
        }
      ],
      "source": [
        "birth_year = 2005\n",
        "current_year = 2025\n",
        "\n",
        "current_age = current_year-birth_year\n",
        "\n",
        "print(f\"Current age: {current_age}\")"
      ]
    },
    {
      "cell_type": "markdown",
      "metadata": {
        "id": "rlTSk635UjwK"
      },
      "source": [
        "# Task on Numbers:\n",
        "\n",
        "1. You have a football field that is 92 meter long and 48.8 meter wide. Find out total\n",
        "area using python and print it.\n",
        "2. You bought 9 packets of potato chips from a store. Each packet costs 1.49 dollar\n",
        "and you gave shopkeeper 20 dollar. Find out using python, how many dollars is the shopkeeper going to give you back?\n",
        "3. You want to replace tiles in your bathroom which is exactly square and 5.5 feet\n",
        "is its length. If tiles cost 500 rs per square feet, how much will be the total\n",
        "cost to replace all tiles. Calculate and print the cost using python\n",
        "(Hint: Use power operator ** to find area of a square)"
      ]
    },
    {
      "cell_type": "code",
      "execution_count": 19,
      "metadata": {},
      "outputs": [
        {
          "name": "stdout",
          "output_type": "stream",
          "text": [
            "4490\n",
            "The change equals 6.59\n",
            "Total cost equals 15125.0\n"
          ]
        }
      ],
      "source": [
        "import math\n",
        "length = 92\n",
        "width = 48.8\n",
        "print(round(length*width))\n",
        "\n",
        "packets_cost = 9*1.49 \n",
        "money = 20\n",
        "print(f'The change equals {money-packets_cost}')\n",
        "\n",
        "length_tile = 5.5\n",
        "area_tiles = length_tile**2\n",
        "cost_square_feet = 500\n",
        "print(f\"Total cost equals {cost_square_feet*area_tiles}\")"
      ]
    },
    {
      "cell_type": "markdown",
      "metadata": {
        "id": "Si0IvvMfUo_t"
      },
      "source": [
        "# Task on String:\n",
        "1. Create 3 variables to store street, city and country, now create address variable to\n",
        "store entire address. Use two ways of creating this variable, one using + operator and the other using f-string.\n",
        "Now Print the address in such a way that the street, city and country prints in a separate line\n",
        "2. Create a variable to store the string \"Earth revolves around the sun\"\n",
        "    1. Print \"revolves\" using slice operator\n",
        "    2. Print \"sun\" using negative index\n",
        "3. Create two variables to store how many fruits and vegetables you eat in a day.\n",
        "Now Print \"I eat x veggies and y fruits daily\" where x and y presents vegetables and fruits that you eat everyday. Use python f string for this.\n",
        "4. I have a string variable called s='maine 200 banana khaye'. This of course is a\n",
        "wrong statement, the correct statement is 'maine 10 samosa khaye'.\n",
        "Replace incorrect words in original strong with new ones and print the new string.\n",
        "Also try to do this in one line."
      ]
    },
    {
      "cell_type": "code",
      "execution_count": 55,
      "metadata": {},
      "outputs": [
        {
          "name": "stdout",
          "output_type": "stream",
          "text": [
            "Using + operator:\n",
            " 123 Nile Street Alexandria Egypt\n",
            "\n",
            "Using f-string:\n",
            " 123 Nile Street Alexandria Egypt\n",
            "\n",
            " revolves\n",
            "sun\n",
            "\n",
            "I eat 3 fruits and 2 daily\n",
            "\n",
            " maine 10 samsosa khaye\n"
          ]
        }
      ],
      "source": [
        "street = \"123 Nile Street \"\n",
        "city = \"Alexandria \"\n",
        "country = \"Egypt\"\n",
        "\n",
        "address_plus = street + city + country\n",
        "print(\"Using + operator:\\n\", address_plus)\n",
        "\n",
        "address_fstring = f\"{street}{city}{country}\"\n",
        "print(\"\\nUsing f-string:\\n\", address_fstring)\n",
        "\n",
        "S = 'Earth revolves around the sun'\n",
        "print('\\n', S[6:14])\n",
        "print(S[-3:])\n",
        "\n",
        "fruits = 3\n",
        "vegetables = 2 \n",
        "print(f\"\\nI eat {fruits} fruits and {vegetables} daily\")\n",
        "\n",
        "S2 = 'maine 200 banana khaye'\n",
        "S2 = S2.replace('200','10')\n",
        "S2 = S2.replace('banana','samsosa')\n",
        "print('\\n',S2)\n",
        "\n"
      ]
    }
  ],
  "metadata": {
    "colab": {
      "provenance": []
    },
    "kernelspec": {
      "display_name": ".venv",
      "language": "python",
      "name": "python3"
    },
    "language_info": {
      "codemirror_mode": {
        "name": "ipython",
        "version": 3
      },
      "file_extension": ".py",
      "mimetype": "text/x-python",
      "name": "python",
      "nbconvert_exporter": "python",
      "pygments_lexer": "ipython3",
      "version": "3.13.2"
    }
  },
  "nbformat": 4,
  "nbformat_minor": 0
}
